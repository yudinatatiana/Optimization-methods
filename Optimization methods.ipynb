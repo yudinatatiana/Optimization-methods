{
 "cells": [
  {
   "cell_type": "markdown",
   "metadata": {},
   "source": [
    "### Метод деление отрезка пополам (метод бисекции)\n",
    "\n",
    "Задача заключается в нахождении корней нелинейного уравнения f(x) = 0\n",
    "\n",
    "\n",
    "Пусть xn - начало отрезка по x;\n",
    "xk - конец отрезка по x;\n",
    "xi - середина отрезка по x;\n",
    "eps - требуемая точность вычислений по y (заданное приближение интервала [xn; xk] : xk - xn стремится к нулю)"
   ]
  },
  {
   "cell_type": "code",
   "execution_count": 219,
   "metadata": {},
   "outputs": [],
   "source": [
    "def F(x):\n",
    "    return (x**3)/3 - x**2 - 3*x \n",
    "\n",
    "def sign(x):\n",
    "    if x > 0: \n",
    "        return 1\n",
    "    elif x == 0:\n",
    "        return 0\n",
    "    else:\n",
    "        return -1\n",
    "\n",
    "def bisection_method(xn, xk, eps):\n",
    "    if F(xn) == 0:\n",
    "        print('Корень уравнения - ', xn)\n",
    "    elif F(xk) == 0:\n",
    "        print('Корень уравнения - ', xk)\n",
    "    else: \n",
    "        i = 0\n",
    "        while (xk - xn) > eps:\n",
    "            dx = (xk - xn)/2\n",
    "            xi = xn + dx\n",
    "            if sign(F(xn)) != sign(F(xi)):\n",
    "                xk = xi\n",
    "            else:\n",
    "                xn = xi\n",
    "            i += 1\n",
    "            print('Шаг №', i, ': xn = ', xn, '; xk = ', xk, '; xi = ', xi, sep='')\n",
    "        print('Найден корень уравнения - ', xi, 'с точностью по y -', eps)"
   ]
  },
  {
   "cell_type": "code",
   "execution_count": 220,
   "metadata": {},
   "outputs": [
    {
     "name": "stdout",
     "output_type": "stream",
     "text": [
      "Шаг №1: xn = -4; xk = 0.0; xi = 0.0\n",
      "Шаг №2: xn = -2.0; xk = 0.0; xi = -2.0\n",
      "Шаг №3: xn = -2.0; xk = -1.0; xi = -1.0\n",
      "Шаг №4: xn = -2.0; xk = -1.5; xi = -1.5\n",
      "Шаг №5: xn = -2.0; xk = -1.75; xi = -1.75\n",
      "Шаг №6: xn = -1.875; xk = -1.75; xi = -1.875\n",
      "Шаг №7: xn = -1.875; xk = -1.8125; xi = -1.8125\n",
      "Шаг №8: xn = -1.875; xk = -1.84375; xi = -1.84375\n",
      "Шаг №9: xn = -1.859375; xk = -1.84375; xi = -1.859375\n",
      "Шаг №10: xn = -1.859375; xk = -1.8515625; xi = -1.8515625\n",
      "Найден корень уравнения -  -1.8515625 с точностью по y - 0.01\n"
     ]
    }
   ],
   "source": [
    "bisection_method(-4, 4, 0.01)"
   ]
  },
  {
   "cell_type": "markdown",
   "metadata": {},
   "source": [
    "### Метод золотого сечения\n",
    "\n",
    "1. На первой итерации заданный отрезок делится двумя симметричными относительно его центра точками и рассчитываются значения в этих точках\n",
    "2. После чего тот из концов отрезка, к которому среди двух вновь поставленных точек ближе оказалась та, значение в которой максимально (для случая поиска минимума), отбрасывают\n",
    "3. На следующей итерации в силу показанного выше свойства золотого сечения уже надо искать всего одну новую точку\n",
    "4. Процедура продолжается до тех пор, пока не будет достигнута заданная точность."
   ]
  },
  {
   "cell_type": "code",
   "execution_count": 213,
   "metadata": {},
   "outputs": [],
   "source": [
    "def F(x):\n",
    "    return (x**3)/3 - x**2 - 3*x \n",
    "\n",
    "def gold (a,b,e): \n",
    "    t = (3 - 5**0.5)/2 #константа\n",
    "    x1 = a + t*(b-a)\n",
    "    x2 = b - t*(b-a)    \n",
    "    F1 = F(x1)\n",
    "    F2 = F(x2) \n",
    "    i = 0\n",
    "    while abs(b-a) > e:\n",
    "        if F1 > F2: #Поиск минимума - >; максимума - <\n",
    "            a = x1\n",
    "            x1 = x2\n",
    "            F1 = F2\n",
    "            x2 = a + b - x2\n",
    "            F2 = F(x2)\n",
    "        else:\n",
    "            b = x2\n",
    "            x2 = x1\n",
    "            F2 = F1\n",
    "            x1 = a + b - x1\n",
    "            F1 = F(x1)\n",
    "        i += 1\n",
    "        print(\"Шаг №\", i, ': a = ', round(a, 4), '; b = ', round(b, 4), '; F1 = ', round(F1, 4), '; F2 = ', round(F2,4), sep='')\n",
    "    return print('Интервал: а =', a, 'b =', b, '; Минимум = ', (a + b)/2)"
   ]
  },
  {
   "cell_type": "code",
   "execution_count": 214,
   "metadata": {},
   "outputs": [
    {
     "name": "stdout",
     "output_type": "stream",
     "text": [
      "Шаг №1: a = -4; b = 0.9443; F1 = 4.4582; F2 = 0.8916\n",
      "Шаг №2: a = -2.1115; b = 0.9443; F1 = 0.8916; F2 = 0.0497\n",
      "Шаг №3: a = -0.9443; b = 0.9443; F1 = 0.0497; F2 = 0.0497\n",
      "Шаг №4: a = -0.9443; b = 0.2229; F1 = 0.2484; F2 = 0.0497\n",
      "Шаг №5: a = -0.4984; b = 0.2229; F1 = 0.0497; F2 = 0.0028\n",
      "Шаг №6: a = -0.2229; b = 0.2229; F1 = 0.0028; F2 = 0.0028\n",
      "Шаг №7: a = -0.2229; b = 0.0526; F1 = 0.0138; F2 = 0.0028\n",
      "Шаг №8: a = -0.1177; b = 0.0526; F1 = 0.0028; F2 = 0.0002\n",
      "Шаг №9: a = -0.0526; b = 0.0526; F1 = 0.0002; F2 = 0.0002\n",
      "Шаг №10: a = -0.0526; b = 0.0124; F1 = 0.0008; F2 = 0.0002\n",
      "Шаг №11: a = -0.0278; b = 0.0124; F1 = 0.0002; F2 = 0.0\n",
      "Шаг №12: a = -0.0124; b = 0.0124; F1 = 0.0; F2 = 0.0\n",
      "Шаг №13: a = -0.0124; b = 0.0029; F1 = 0.0; F2 = 0.0\n",
      "Шаг №14: a = -0.0066; b = 0.0029; F1 = 0.0; F2 = 0.0\n",
      "Интервал: а = -0.00655738057341182 b = 0.002932549743562163 ; Минимум =  -0.0018124154149248284\n"
     ]
    }
   ],
   "source": [
    "gold(-4, 4, 0.01)"
   ]
  },
  {
   "cell_type": "markdown",
   "metadata": {},
   "source": [
    "### Метод Фибоначчи \n",
    "\n",
    "1. Задаются начальные границы отрезка a, b и число итераций N, рассчитываются начальные точки деления x1 и x2 и значения в них целевой функции: F1=F(x1) и F2=F(x2)\n",
    "2. После чего тот из концов отрезка, к которому среди двух вновь поставленных точек ближе оказалась та, значение в которой максимально (для случая поиска минимума), отбрасывают\n",
    "3. На следующей итерации в силу показанного выше свойства золотого сечения уже надо искать всего одну новую точку\n",
    "4. Процедура повторяется до тех пор, пока не закончится допустимой количество итераций"
   ]
  },
  {
   "cell_type": "code",
   "execution_count": 211,
   "metadata": {},
   "outputs": [],
   "source": [
    "def F(x):\n",
    "    return x**2\n",
    "\n",
    "def fib(x):\n",
    "    if (x == 1 or x == 2):\n",
    "        return 1\n",
    "    else:\n",
    "        return (fib(x-1)+fib(x-2))\n",
    "\n",
    "def fibonachi(a, b, N, eps):       \n",
    "    if (N == 1):\n",
    "        t0 = 1/2\n",
    "    elif (N == 2):\n",
    "        t0 = 1/3\n",
    "    elif (N % 2):\n",
    "        t0 = fib(N-2)/fib(N)\n",
    "    else:\n",
    "        t0 = fib(N-1)/fib(N+1)                \n",
    "    x1 = a + t0 * (b - a);\n",
    "    x2 = a + (1 - t0)*(b - a)\n",
    "    F1 = F(x1)\n",
    "    F2 = F(x2)\n",
    "    for i in range(N):\n",
    "        if i == N - 1:\n",
    "            x2 = x1 + eps\n",
    "            F2 = F(x2)\n",
    "            if F1 > F2:\n",
    "                a = x1\n",
    "            else:\n",
    "                b = x2\n",
    "        else:\n",
    "            if F1 > F2: #Поиск минимума - >; максимума - <\n",
    "                a = x1\n",
    "                x1 = x2\n",
    "                F1 = F2\n",
    "                x2 = a + b - x1\n",
    "                F2 = F(x2)\n",
    "            else:\n",
    "                b = x2\n",
    "                x2 = x1\n",
    "                F2 = F1\n",
    "                x1 = a + b - x1\n",
    "                F1 = F(x1)\n",
    "        print(\"Шаг №\", i + 1, ': a = ', round(a, 4), '; b = ', round(b, 4), '; F1 = ', round(F1, 4), '; F2 = ', round(F2,4), sep='')\n",
    "    return print('Интервал: a =', a, 'b =', b, '; Минимум = ', (a + b)/2)"
   ]
  },
  {
   "cell_type": "code",
   "execution_count": 212,
   "metadata": {},
   "outputs": [
    {
     "name": "stdout",
     "output_type": "stream",
     "text": [
      "Шаг №1: a = -4; b = 0.9443; F1 = 4.4582; F2 = 0.8916\n",
      "Шаг №2: a = -2.1115; b = 0.9443; F1 = 0.8916; F2 = 0.0497\n",
      "Шаг №3: a = -0.9443; b = 0.9443; F1 = 0.0497; F2 = 0.0497\n",
      "Шаг №4: a = -0.9443; b = 0.2229; F1 = 0.2484; F2 = 0.0497\n",
      "Шаг №5: a = -0.4984; b = 0.2229; F1 = 0.0497; F2 = 0.0028\n",
      "Шаг №6: a = -0.2229; b = 0.2229; F1 = 0.0028; F2 = 0.0028\n",
      "Шаг №7: a = -0.2229; b = 0.0526; F1 = 0.0138; F2 = 0.0028\n",
      "Шаг №8: a = -0.1177; b = 0.0526; F1 = 0.0028; F2 = 0.0002\n",
      "Шаг №9: a = -0.0526; b = 0.0526; F1 = 0.0002; F2 = 0.0002\n",
      "Шаг №10: a = -0.0526; b = 0.0124; F1 = 0.0008; F2 = 0.0002\n",
      "Шаг №11: a = -0.0278; b = 0.0124; F1 = 0.0002; F2 = 0.0\n",
      "Шаг №12: a = -0.0124; b = 0.0124; F1 = 0.0; F2 = 0.0\n",
      "Шаг №13: a = -0.0124; b = 0.0029; F1 = 0.0; F2 = 0.0\n",
      "Шаг №14: a = -0.0066; b = 0.0029; F1 = 0.0; F2 = 0.0\n",
      "Шаг №15: a = -0.0029; b = 0.0029; F1 = 0.0; F2 = 0.0\n",
      "Шаг №16: a = -0.0029; b = 0.0007; F1 = 0.0; F2 = 0.0\n",
      "Шаг №17: a = -0.0015; b = 0.0007; F1 = 0.0; F2 = 0.0\n",
      "Шаг №18: a = -0.0007; b = 0.0007; F1 = 0.0; F2 = 0.0\n",
      "Шаг №19: a = -0.0007; b = 0.0; F1 = 0.0; F2 = 0.0\n",
      "Шаг №20: a = -0.0007; b = 0.0093; F1 = 0.0; F2 = 0.0001\n",
      "Интервал: a = -0.0007308605881632957 b = 0.009269139413357266 ; Минимум =  0.004269139412596985\n"
     ]
    }
   ],
   "source": [
    "fibonachi(-4, 4, 20, 0.01)"
   ]
  },
  {
   "cell_type": "markdown",
   "metadata": {},
   "source": [
    "### Метод линейной интерполяции\n",
    "\n",
    "При линейной интерполяции значение точки "
   ]
  },
  {
   "cell_type": "code",
   "execution_count": 106,
   "metadata": {},
   "outputs": [],
   "source": [
    "def F (x):\n",
    "    return x**2\n",
    "\n",
    "def interpol(a, b, eps):\n",
    "    Fa = F(a)\n",
    "    Fb = F(b)    \n",
    "    tmp = a\n",
    "    k = (Fb-Fa)/(b-a)\n",
    "    v = Fa - (k*a)\n",
    "    print('q(x) = ', k, '; x = ', abs(v), '; xi = ', a, sep='')\n",
    "    a = b - Fb/k\n",
    "    Fa = F(a)    \n",
    "    while (abs(v+k*tmp) > eps):\n",
    "        tmp = a\n",
    "        k = (Fb-Fa)/(b-a)\n",
    "        v = Fa - (k*a)\n",
    "        print('q(x) = ', k, '; x = ', abs(v), '; xi = ', a, sep='')\n",
    "        a = b - Fb/k\n",
    "        Fa = F(a)  "
   ]
  },
  {
   "cell_type": "code",
   "execution_count": 107,
   "metadata": {},
   "outputs": [
    {
     "name": "stdout",
     "output_type": "stream",
     "text": [
      "q(x) = 2.3333333333333326; x = 15.999999999999998; xi = -4\n",
      "q(x) = 16.29251700680273; x = 71.83673469387759; xi = 6.8571428571428585\n",
      "q(x) = 6.283368418605795; x = 31.800140341089847; xi = 4.409185803757829\n",
      "q(x) = 8.55824787060176; x = 40.8996581490737; xi = 5.061002033069696\n",
      "q(x) = 7.539194624935729; x = 36.823445166409584; xi = 4.778975646354809\n",
      "q(x) = 7.913446400688513; x = 38.32045226942072; xi = 4.884267749849142\n",
      "q(x) = 7.763916685521413; x = 37.72233340875232; xi = 4.842447946079047\n",
      "q(x) = 7.821792583013426; x = 37.95383699872037; xi = 4.858673133252323\n"
     ]
    }
   ],
   "source": [
    "interpol(-4, 4, 0.1)"
   ]
  },
  {
   "cell_type": "markdown",
   "metadata": {},
   "source": [
    "### Метод покоординатного спуска"
   ]
  },
  {
   "cell_type": "code",
   "execution_count": 110,
   "metadata": {},
   "outputs": [],
   "source": [
    "def F (x, y, z):\n",
    "    return x**3 + y**3 + z**3\n",
    "\n",
    "def spusk(x, y, z, n, eps):\n",
    "    value = F(x, y, z)\n",
    "    for i in range(n):\n",
    "        if F(x+eps, y, z) < value:\n",
    "            x += eps\n",
    "            value = F(x, y, z)\n",
    "        elif F(x-eps, y, z) < value:\n",
    "            x -= eps\n",
    "            value = F(x, y, z)\n",
    "        elif F(x, y+eps, z) < value:\n",
    "            y += eps\n",
    "            value = F(x, y, z)\n",
    "        elif  F(x, y-eps, z) < value:\n",
    "            y -= eps\n",
    "            value = F(x, y, z)\n",
    "        elif F(x+eps, y+eps, z) < value:\n",
    "            x += eps\n",
    "            y += eps\n",
    "            value = F(x, y, z)\n",
    "        elif  F(x-eps, y-eps, z) < value:\n",
    "            x -= eps\n",
    "            y -= eps\n",
    "            value = F(x, y, z)\n",
    "        elif F(z+eps, y, z) < value:\n",
    "            z += eps\n",
    "            value = F(x, y, z)\n",
    "        elif F(z-eps, y, z) < value:\n",
    "            z -= eps\n",
    "            value = F(x, y, z)\n",
    "        elif F(x, y+eps, z+eps) < value:\n",
    "            y += eps\n",
    "            z += eps\n",
    "            value = F(x, y, z)\n",
    "        elif  F(x, y-eps, z-eps) < value:\n",
    "            y -= eps\n",
    "            z -= eps\n",
    "            value = F(x, y, z)\n",
    "        elif F(x+eps, y, z+eps) < value:\n",
    "            x += eps\n",
    "            z += eps\n",
    "            value = F(x, y, z)\n",
    "        elif F(x-eps, y, z-eps) < value:\n",
    "            x -= eps\n",
    "            z -= eps\n",
    "            value = F(x, y, z)\n",
    "        print('Номер шага: ', i + 1, '; x = ', x, '; y = ', y, '; z = ', z, sep='')\n",
    "    return print('Значение = ', value)"
   ]
  },
  {
   "cell_type": "code",
   "execution_count": 111,
   "metadata": {},
   "outputs": [
    {
     "name": "stdout",
     "output_type": "stream",
     "text": [
      "Номер шага: 1; x = 4.9; y = 5; z = 5\n",
      "Номер шага: 2; x = 4.800000000000001; y = 5; z = 5\n",
      "Номер шага: 3; x = 4.700000000000001; y = 5; z = 5\n",
      "Номер шага: 4; x = 4.600000000000001; y = 5; z = 5\n",
      "Номер шага: 5; x = 4.500000000000002; y = 5; z = 5\n",
      "Номер шага: 6; x = 4.400000000000002; y = 5; z = 5\n",
      "Номер шага: 7; x = 4.3000000000000025; y = 5; z = 5\n",
      "Номер шага: 8; x = 4.200000000000003; y = 5; z = 5\n",
      "Номер шага: 9; x = 4.100000000000003; y = 5; z = 5\n",
      "Номер шага: 10; x = 4.0000000000000036; y = 5; z = 5\n",
      "Номер шага: 11; x = 3.9000000000000035; y = 5; z = 5\n",
      "Номер шага: 12; x = 3.8000000000000034; y = 5; z = 5\n",
      "Номер шага: 13; x = 3.7000000000000033; y = 5; z = 5\n",
      "Номер шага: 14; x = 3.600000000000003; y = 5; z = 5\n",
      "Номер шага: 15; x = 3.500000000000003; y = 5; z = 5\n",
      "Номер шага: 16; x = 3.400000000000003; y = 5; z = 5\n",
      "Номер шага: 17; x = 3.300000000000003; y = 5; z = 5\n",
      "Номер шага: 18; x = 3.200000000000003; y = 5; z = 5\n",
      "Значение =  282.7680000000001\n"
     ]
    }
   ],
   "source": [
    "spusk(5, 5, 5, 18, 0.1)"
   ]
  },
  {
   "cell_type": "markdown",
   "metadata": {},
   "source": [
    "### 3-х точечный метод деления интервала пополам"
   ]
  },
  {
   "cell_type": "code",
   "execution_count": 112,
   "metadata": {},
   "outputs": [],
   "source": [
    "def F(x):\n",
    "    return (x**3)/3 - x**2 - 3*x \n",
    "\n",
    "def dot_3(a, b, e):\n",
    "    x2 = (b+a)/2\n",
    "    L = b - a\n",
    "    F2 = F(x2)\n",
    "    while L > e:\n",
    "        x1 = a + L/4\n",
    "        x3 = b - L/4\n",
    "        F1 = F(x1)\n",
    "        F3 = F(x3)\n",
    "        if F1 < F3:\n",
    "            b = x2\n",
    "            x2 = x1\n",
    "        else: \n",
    "            if F2 > F3:\n",
    "                a = x2\n",
    "                x2 = x3\n",
    "            else:\n",
    "                a = x1\n",
    "                b = x3\n",
    "        L = b - a\n",
    "    return print('L = ', L) "
   ]
  },
  {
   "cell_type": "code",
   "execution_count": 113,
   "metadata": {},
   "outputs": [
    {
     "name": "stdout",
     "output_type": "stream",
     "text": [
      "L =  0.0625\n"
     ]
    }
   ],
   "source": [
    "dot_3(-4, 4, 0.1)"
   ]
  },
  {
   "cell_type": "markdown",
   "metadata": {},
   "source": [
    "### 2-х точечный метод деления интервала пополам"
   ]
  },
  {
   "cell_type": "code",
   "execution_count": 122,
   "metadata": {},
   "outputs": [],
   "source": [
    "def F(x):\n",
    "    return (x**3)/3 - x**2 - 3*x \n",
    "\n",
    "def dot_2(a, b, sigma, e, N):\n",
    "    i = 0 \n",
    "    flag = False\n",
    "    while abs(b - a) >= e and i < N and flag == False:\n",
    "        i += 1\n",
    "        x1 = (a + b - sigma)/2\n",
    "        F1 = F(x1)\n",
    "        x2 = (a + b + sigma)/2\n",
    "        F2 = F(x2)\n",
    "        if F1 < F2:\n",
    "            b = x2\n",
    "        elif F1 > F2:\n",
    "            a = x1\n",
    "        else:\n",
    "            a = x1\n",
    "            b = x2\n",
    "            flag = True\n",
    "    return print('a = ', a, ' b = ', b)\n",
    "        "
   ]
  },
  {
   "cell_type": "code",
   "execution_count": 132,
   "metadata": {},
   "outputs": [
    {
     "name": "stdout",
     "output_type": "stream",
     "text": [
      "a =  2.9125  b =  3.07421875\n"
     ]
    }
   ],
   "source": [
    "dot_2(-4, 4, 0.1, 0.2, 20)"
   ]
  },
  {
   "cell_type": "markdown",
   "metadata": {},
   "source": [
    "### Метод дихотомии"
   ]
  },
  {
   "cell_type": "code",
   "execution_count": 133,
   "metadata": {},
   "outputs": [],
   "source": [
    "def F(x):\n",
    "    return (x**3)/3 - x**2 - 3*x \n",
    "\n",
    "def dix(a, b, sigma, e):\n",
    "    while abs(b - a) >= e:\n",
    "        x1 = (a + b - sigma)/2\n",
    "        x2 = (a + b + sigma)/2\n",
    "        F1 = F(x1)\n",
    "        F2 = F(x2)\n",
    "        if F1 < F2:\n",
    "            b = x2\n",
    "        else:\n",
    "            a = x1\n",
    "    x = a\n",
    "    return print('x = ', x, '; a = ', a, '; b = ', b, sep='')"
   ]
  },
  {
   "cell_type": "code",
   "execution_count": 134,
   "metadata": {},
   "outputs": [
    {
     "name": "stdout",
     "output_type": "stream",
     "text": [
      "x = 2.9125; a = 2.9125; b = 3.07421875\n"
     ]
    }
   ],
   "source": [
    "dix(-4, 4, 0.1, 0.2)"
   ]
  }
 ],
 "metadata": {
  "kernelspec": {
   "display_name": "Python 3",
   "language": "python",
   "name": "python3"
  },
  "language_info": {
   "codemirror_mode": {
    "name": "ipython",
    "version": 3
   },
   "file_extension": ".py",
   "mimetype": "text/x-python",
   "name": "python",
   "nbconvert_exporter": "python",
   "pygments_lexer": "ipython3",
   "version": "3.7.2"
  }
 },
 "nbformat": 4,
 "nbformat_minor": 2
}
